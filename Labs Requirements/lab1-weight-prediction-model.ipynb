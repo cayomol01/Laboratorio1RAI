{
 "cells": [
  {
   "cell_type": "code",
   "execution_count": 1,
   "id": "5dbab1858faf6182",
   "metadata": {},
   "outputs": [],
   "source": [
    "import math\n",
    "import pandas as pd\n",
    "from sklearn import linear_model\n",
    "from sklearn.metrics import mean_absolute_error\n",
    "import matplotlib.pyplot as plt\n",
    "from scipy.stats import pearsonr"
   ]
  },
  {
   "cell_type": "code",
   "execution_count": 3,
   "id": "d9a83f1ab1a45fd2",
   "metadata": {},
   "outputs": [],
   "source": [
    "# 0. Cargar los datos de estatura y peso\n",
    "url = 'http://wiki.stat.ucla.edu/socr/index.php?title=SOCR_Data_Dinov_020108_HeightsWeights&oldid=12529'\n",
    "\n",
    "height_weight_df = pd.read_html(url)[1][['Height(Inches)','Weight(Pounds)']]"
   ]
  },
  {
   "cell_type": "code",
   "execution_count": null,
   "id": "dc4ed125ad17f865",
   "metadata": {},
   "outputs": [],
   "source": [
    "# 1. Count records in the dataframe\n",
    "# 2. Crear una regresion lineal con estatura como variable explicatoria y peso como variable explicada\n",
    "# 3. Hallar el intercepto\n",
    "# 4. Hacer la grafica\n",
    "# 5. Hallar correlacion y valor p\n",
    "# 6. Interpretar el valor p"
   ]
  },
  {
   "cell_type": "markdown",
   "id": "5edb635f",
   "metadata": {},
   "source": [
    "# 1. Count records in the dataframe\n"
   ]
  },
  {
   "cell_type": "code",
   "execution_count": 4,
   "id": "2e51634a",
   "metadata": {},
   "outputs": [
    {
     "data": {
      "text/html": [
       "<div>\n",
       "<style scoped>\n",
       "    .dataframe tbody tr th:only-of-type {\n",
       "        vertical-align: middle;\n",
       "    }\n",
       "\n",
       "    .dataframe tbody tr th {\n",
       "        vertical-align: top;\n",
       "    }\n",
       "\n",
       "    .dataframe thead th {\n",
       "        text-align: right;\n",
       "    }\n",
       "</style>\n",
       "<table border=\"1\" class=\"dataframe\">\n",
       "  <thead>\n",
       "    <tr style=\"text-align: right;\">\n",
       "      <th></th>\n",
       "      <th>Height(Inches)</th>\n",
       "      <th>Weight(Pounds)</th>\n",
       "    </tr>\n",
       "  </thead>\n",
       "  <tbody>\n",
       "    <tr>\n",
       "      <th>0</th>\n",
       "      <td>65.78</td>\n",
       "      <td>112.99</td>\n",
       "    </tr>\n",
       "    <tr>\n",
       "      <th>1</th>\n",
       "      <td>71.52</td>\n",
       "      <td>136.49</td>\n",
       "    </tr>\n",
       "    <tr>\n",
       "      <th>2</th>\n",
       "      <td>69.40</td>\n",
       "      <td>153.03</td>\n",
       "    </tr>\n",
       "    <tr>\n",
       "      <th>3</th>\n",
       "      <td>68.22</td>\n",
       "      <td>142.34</td>\n",
       "    </tr>\n",
       "    <tr>\n",
       "      <th>4</th>\n",
       "      <td>67.79</td>\n",
       "      <td>144.30</td>\n",
       "    </tr>\n",
       "  </tbody>\n",
       "</table>\n",
       "</div>"
      ],
      "text/plain": [
       "   Height(Inches)  Weight(Pounds)\n",
       "0           65.78          112.99\n",
       "1           71.52          136.49\n",
       "2           69.40          153.03\n",
       "3           68.22          142.34\n",
       "4           67.79          144.30"
      ]
     },
     "execution_count": 4,
     "metadata": {},
     "output_type": "execute_result"
    }
   ],
   "source": [
    "height_weight_df.head()"
   ]
  },
  {
   "cell_type": "code",
   "execution_count": 6,
   "id": "ffdd5f41",
   "metadata": {},
   "outputs": [
    {
     "name": "stdout",
     "output_type": "stream",
     "text": [
      "Records in df: 200\n"
     ]
    }
   ],
   "source": [
    "print(f\"Records in df: {len(height_weight_df)}\")"
   ]
  },
  {
   "cell_type": "markdown",
   "id": "f7031f03",
   "metadata": {},
   "source": [
    "# 2. Crear una regresion lineal con estatura como variable explicatoria y peso como variable explicada\n"
   ]
  },
  {
   "cell_type": "code",
   "execution_count": 7,
   "id": "c9396224",
   "metadata": {},
   "outputs": [],
   "source": [
    "model = linear_model.LinearRegression()"
   ]
  },
  {
   "cell_type": "code",
   "execution_count": 55,
   "id": "dd9c3247",
   "metadata": {},
   "outputs": [],
   "source": [
    "x = height_weight_df[['Height(Inches)']]\n",
    "y = height_weight_df[['Weight(Pounds)']]"
   ]
  },
  {
   "cell_type": "code",
   "execution_count": 56,
   "id": "e881d51d",
   "metadata": {},
   "outputs": [
    {
     "data": {
      "text/html": [
       "<style>#sk-container-id-5 {color: black;background-color: white;}#sk-container-id-5 pre{padding: 0;}#sk-container-id-5 div.sk-toggleable {background-color: white;}#sk-container-id-5 label.sk-toggleable__label {cursor: pointer;display: block;width: 100%;margin-bottom: 0;padding: 0.3em;box-sizing: border-box;text-align: center;}#sk-container-id-5 label.sk-toggleable__label-arrow:before {content: \"▸\";float: left;margin-right: 0.25em;color: #696969;}#sk-container-id-5 label.sk-toggleable__label-arrow:hover:before {color: black;}#sk-container-id-5 div.sk-estimator:hover label.sk-toggleable__label-arrow:before {color: black;}#sk-container-id-5 div.sk-toggleable__content {max-height: 0;max-width: 0;overflow: hidden;text-align: left;background-color: #f0f8ff;}#sk-container-id-5 div.sk-toggleable__content pre {margin: 0.2em;color: black;border-radius: 0.25em;background-color: #f0f8ff;}#sk-container-id-5 input.sk-toggleable__control:checked~div.sk-toggleable__content {max-height: 200px;max-width: 100%;overflow: auto;}#sk-container-id-5 input.sk-toggleable__control:checked~label.sk-toggleable__label-arrow:before {content: \"▾\";}#sk-container-id-5 div.sk-estimator input.sk-toggleable__control:checked~label.sk-toggleable__label {background-color: #d4ebff;}#sk-container-id-5 div.sk-label input.sk-toggleable__control:checked~label.sk-toggleable__label {background-color: #d4ebff;}#sk-container-id-5 input.sk-hidden--visually {border: 0;clip: rect(1px 1px 1px 1px);clip: rect(1px, 1px, 1px, 1px);height: 1px;margin: -1px;overflow: hidden;padding: 0;position: absolute;width: 1px;}#sk-container-id-5 div.sk-estimator {font-family: monospace;background-color: #f0f8ff;border: 1px dotted black;border-radius: 0.25em;box-sizing: border-box;margin-bottom: 0.5em;}#sk-container-id-5 div.sk-estimator:hover {background-color: #d4ebff;}#sk-container-id-5 div.sk-parallel-item::after {content: \"\";width: 100%;border-bottom: 1px solid gray;flex-grow: 1;}#sk-container-id-5 div.sk-label:hover label.sk-toggleable__label {background-color: #d4ebff;}#sk-container-id-5 div.sk-serial::before {content: \"\";position: absolute;border-left: 1px solid gray;box-sizing: border-box;top: 0;bottom: 0;left: 50%;z-index: 0;}#sk-container-id-5 div.sk-serial {display: flex;flex-direction: column;align-items: center;background-color: white;padding-right: 0.2em;padding-left: 0.2em;position: relative;}#sk-container-id-5 div.sk-item {position: relative;z-index: 1;}#sk-container-id-5 div.sk-parallel {display: flex;align-items: stretch;justify-content: center;background-color: white;position: relative;}#sk-container-id-5 div.sk-item::before, #sk-container-id-5 div.sk-parallel-item::before {content: \"\";position: absolute;border-left: 1px solid gray;box-sizing: border-box;top: 0;bottom: 0;left: 50%;z-index: -1;}#sk-container-id-5 div.sk-parallel-item {display: flex;flex-direction: column;z-index: 1;position: relative;background-color: white;}#sk-container-id-5 div.sk-parallel-item:first-child::after {align-self: flex-end;width: 50%;}#sk-container-id-5 div.sk-parallel-item:last-child::after {align-self: flex-start;width: 50%;}#sk-container-id-5 div.sk-parallel-item:only-child::after {width: 0;}#sk-container-id-5 div.sk-dashed-wrapped {border: 1px dashed gray;margin: 0 0.4em 0.5em 0.4em;box-sizing: border-box;padding-bottom: 0.4em;background-color: white;}#sk-container-id-5 div.sk-label label {font-family: monospace;font-weight: bold;display: inline-block;line-height: 1.2em;}#sk-container-id-5 div.sk-label-container {text-align: center;}#sk-container-id-5 div.sk-container {/* jupyter's `normalize.less` sets `[hidden] { display: none; }` but bootstrap.min.css set `[hidden] { display: none !important; }` so we also need the `!important` here to be able to override the default hidden behavior on the sphinx rendered scikit-learn.org. See: https://github.com/scikit-learn/scikit-learn/issues/21755 */display: inline-block !important;position: relative;}#sk-container-id-5 div.sk-text-repr-fallback {display: none;}</style><div id=\"sk-container-id-5\" class=\"sk-top-container\"><div class=\"sk-text-repr-fallback\"><pre>LinearRegression()</pre><b>In a Jupyter environment, please rerun this cell to show the HTML representation or trust the notebook. <br />On GitHub, the HTML representation is unable to render, please try loading this page with nbviewer.org.</b></div><div class=\"sk-container\" hidden><div class=\"sk-item\"><div class=\"sk-estimator sk-toggleable\"><input class=\"sk-toggleable__control sk-hidden--visually\" id=\"sk-estimator-id-5\" type=\"checkbox\" checked><label for=\"sk-estimator-id-5\" class=\"sk-toggleable__label sk-toggleable__label-arrow\">LinearRegression</label><div class=\"sk-toggleable__content\"><pre>LinearRegression()</pre></div></div></div></div></div>"
      ],
      "text/plain": [
       "LinearRegression()"
      ]
     },
     "execution_count": 56,
     "metadata": {},
     "output_type": "execute_result"
    }
   ],
   "source": [
    "model.fit(x,y)"
   ]
  },
  {
   "cell_type": "markdown",
   "id": "ce5bd01a",
   "metadata": {},
   "source": [
    "# 3. Hallar el intercepto"
   ]
  },
  {
   "cell_type": "code",
   "execution_count": 57,
   "metadata": {},
   "outputs": [],
   "source": [
    "slope = model.coef_[0]\n",
    "intercept = model.intercept_"
   ]
  },
  {
   "cell_type": "code",
   "execution_count": 58,
   "id": "d405d6ac",
   "metadata": {},
   "outputs": [
    {
     "name": "stdout",
     "output_type": "stream",
     "text": [
      "La pendiente de la recta es: 3.43. El intercepto es: -106.03\n"
     ]
    }
   ],
   "source": [
    "print(f'La pendiente de la recta es: {slope[0]:.2f}. El intercepto es: {intercept[0]:.2f}')"
   ]
  },
  {
   "cell_type": "markdown",
   "id": "bb94117b",
   "metadata": {},
   "source": [
    "# 4. Hacer la grafica"
   ]
  },
  {
   "cell_type": "code",
   "execution_count": 67,
   "id": "00aee3a9",
   "metadata": {},
   "outputs": [
    {
     "data": {
      "image/png": "[encoded data removed]",
      "text/plain": [
       "<Figure size 640x480 with 1 Axes>"
      ]
     },
     "metadata": {},
     "output_type": "display_data"
    }
   ],
   "source": [
    "height_weight_df['PesoPredecido'] = model.predict(x)\n",
    "plt.scatter(height_weight_df['Height(Inches)'], height_weight_df['Weight(Pounds)'], color='blue', label='Peso/altura real')\n",
    "plt.plot(height_weight_df['Height(Inches)'], height_weight_df['PesoPredecido'], color='red', label='Recta de mejor ajuste')\n",
    "plt.xlabel('Height(Inches)')\n",
    "plt.ylabel('Weight(Pounds)')\n",
    "plt.title('Regresión Lineal: Estatura vs. Peso')\n",
    "plt.legend()\n",
    "plt.show()"
   ]
  },
  {
   "cell_type": "markdown",
   "id": "571a2459",
   "metadata": {},
   "source": [
    "# 5. Hallar correlacion y valor p"
   ]
  },
  {
   "cell_type": "code",
   "execution_count": 61,
   "id": "8e7c3104",
   "metadata": {},
   "outputs": [],
   "source": [
    "correlation, p_value = pearsonr(height_weight_df['Height(Inches)'], height_weight_df['Weight(Pounds)'])"
   ]
  },
  {
   "cell_type": "code",
   "execution_count": 62,
   "id": "293fdffb",
   "metadata": {},
   "outputs": [
    {
     "name": "stdout",
     "output_type": "stream",
     "text": [
      "El valor de correlacion es: 0.56, El valor P es: 1.102901515126636e-17\n"
     ]
    }
   ],
   "source": [
    "print(f\"El valor de correlacion es: {correlation:.2f}, El valor P es: {p_value}\")"
   ]
  },
  {
   "cell_type": "markdown",
   "id": "d316d3f2",
   "metadata": {},
   "source": [
    "# 6. Interpretar el valor p"
   ]
  },
  {
   "cell_type": "markdown",
   "id": "4aae352c",
   "metadata": {},
   "source": [
    "Como se plantea en la documentación de scipy stats, al utilizar la función para calcular el valor de correlación pearson se obtienen 2 resultados. El primero de los dos resultados establece un valor de correlacion entre -1 y 1. El -1 establece que hay una correlación negativa es decir que a medida que la variable explicatoria decrece la variable explicada tambien. Asimismo, el 1 establece que hay una correlación positiva, a medida que la variable explicatoria crece la explicada también crece. Por esto mismo, si llegamos al punto medio entre los 2, es decir el valor 0, se puede determinar que no existe ningun tipo de correlación entre las 2 variables. "
   ]
  },
  {
   "cell_type": "markdown",
   "id": "ea91eea2",
   "metadata": {},
   "source": [
    "Por otro lado, el segundo valor de la función nos da el valor-p de lo que se estuvo comparando. Utilizando la documentaicón como referencia, se pueden establecer 3 tipos de hipotesis alternativas, de 2 colas, cola derecha, cola izquierda. Por default, la función utiliza las 2 colas para establecer este valor-p. Al tener un valor de p menor que el nivel de confiabilidad, se establece que se puede rechazar la hipotesis nula. En este caso nuestra hipotesis nula, por ser de 2 colas, establece que no existe ningun tipo de correlación entre las 2 variables, es decir que el valor de correlación sería igual a 0. En este caso se obtuvo un valor-p sumamente pequeño, lo cual indica que sería muy poco probable que la correlación que se observa a través de los datos analizados paso solamente por azar. "
   ]
  },
  {
   "cell_type": "markdown",
   "id": "7a0bda71",
   "metadata": {},
   "source": [
    "Por lo tanto al interpretar el valor-p se puede establecer que efectivamente si existe una correlación entre las 2 variables de altura y peso."
   ]
  }
 ],
 "metadata": {
  "kernelspec": {
   "display_name": "Python 3",
   "language": "python",
   "name": "python3"
  },
  "language_info": {
   "codemirror_mode": {
    "name": "ipython",
    "version": 3
   },
   "file_extension": ".py",
   "mimetype": "text/x-python",
   "name": "python",
   "nbconvert_exporter": "python",
   "pygments_lexer": "ipython3",
   "version": "3.10.0"
  }
 },
 "nbformat": 4,
 "nbformat_minor": 5
}
